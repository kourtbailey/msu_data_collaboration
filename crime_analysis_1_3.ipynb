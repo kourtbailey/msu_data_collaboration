{
 "cells": [
  {
   "cell_type": "code",
   "execution_count": 1,
   "metadata": {
    "colab": {
     "base_uri": "https://localhost:8080/"
    },
    "id": "chg8Gbo9oBOG",
    "outputId": "c3cd2e76-9428-44e3-fd1b-aa1e9f5b3583"
   },
   "outputs": [],
   "source": [
    "# Import dep\n",
    "import matplotlib.pyplot as plt\n",
    "import pandas as pd\n",
    "import numpy as np\n",
    "import requests\n",
    "import time\n",
    "import json\n",
    "from pprint import pprint\n",
    "from scipy.stats import linregress\n",
    "import csv\n",
    "#!pip install Census\n",
    "from census import Census\n",
    "#!pip install gmaps \n",
    "import gmaps\n",
    "\n",
    "from scipy import stats\n",
    "\n"
   ]
  },
  {
   "cell_type": "code",
   "execution_count": 2,
   "metadata": {
    "id": "uAQsLTv8LKVc"
   },
   "outputs": [],
   "source": [
    "\n",
    "path= \"/content/gdrive/MyDrive/project_team_2/city_pop_data.csv\"\n",
    "city_df = pd.read_csv('city_pop_data.csv')\n"
   ]
  },
  {
   "cell_type": "code",
   "execution_count": 3,
   "metadata": {
    "colab": {
     "base_uri": "https://localhost:8080/",
     "height": 359
    },
    "id": "Y4yJS8IVLrnQ",
    "outputId": "7149d5db-c853-425c-e85d-346275142394"
   },
   "outputs": [
    {
     "data": {
      "text/html": [
       "<div>\n",
       "<style scoped>\n",
       "    .dataframe tbody tr th:only-of-type {\n",
       "        vertical-align: middle;\n",
       "    }\n",
       "\n",
       "    .dataframe tbody tr th {\n",
       "        vertical-align: top;\n",
       "    }\n",
       "\n",
       "    .dataframe thead th {\n",
       "        text-align: right;\n",
       "    }\n",
       "</style>\n",
       "<table border=\"1\" class=\"dataframe\">\n",
       "  <thead>\n",
       "    <tr style=\"text-align: right;\">\n",
       "      <th></th>\n",
       "      <th>City</th>\n",
       "      <th>State</th>\n",
       "      <th>Population</th>\n",
       "    </tr>\n",
       "  </thead>\n",
       "  <tbody>\n",
       "    <tr>\n",
       "      <th>0</th>\n",
       "      <td>Henderson</td>\n",
       "      <td>Nevada</td>\n",
       "      <td>320189</td>\n",
       "    </tr>\n",
       "    <tr>\n",
       "      <th>1</th>\n",
       "      <td>Irving</td>\n",
       "      <td>Texas</td>\n",
       "      <td>239798</td>\n",
       "    </tr>\n",
       "    <tr>\n",
       "      <th>2</th>\n",
       "      <td>Virginia Beach</td>\n",
       "      <td>Virginia</td>\n",
       "      <td>449974</td>\n",
       "    </tr>\n",
       "    <tr>\n",
       "      <th>3</th>\n",
       "      <td>Boise</td>\n",
       "      <td>Idaho</td>\n",
       "      <td>228959</td>\n",
       "    </tr>\n",
       "    <tr>\n",
       "      <th>4</th>\n",
       "      <td>El Paso</td>\n",
       "      <td>Texas</td>\n",
       "      <td>681728</td>\n",
       "    </tr>\n",
       "    <tr>\n",
       "      <th>5</th>\n",
       "      <td>St Louis</td>\n",
       "      <td>Missouri</td>\n",
       "      <td>300576</td>\n",
       "    </tr>\n",
       "    <tr>\n",
       "      <th>6</th>\n",
       "      <td>Cleveland</td>\n",
       "      <td>Ohio</td>\n",
       "      <td>381009</td>\n",
       "    </tr>\n",
       "    <tr>\n",
       "      <th>7</th>\n",
       "      <td>Baltimore</td>\n",
       "      <td>Mayland</td>\n",
       "      <td>593490</td>\n",
       "    </tr>\n",
       "    <tr>\n",
       "      <th>8</th>\n",
       "      <td>Memphis</td>\n",
       "      <td>Tennessee</td>\n",
       "      <td>651073</td>\n",
       "    </tr>\n",
       "    <tr>\n",
       "      <th>9</th>\n",
       "      <td>Detroit</td>\n",
       "      <td>Michigan</td>\n",
       "      <td>670031</td>\n",
       "    </tr>\n",
       "  </tbody>\n",
       "</table>\n",
       "</div>"
      ],
      "text/plain": [
       "             City      State  Population\n",
       "0       Henderson     Nevada      320189\n",
       "1          Irving      Texas      239798\n",
       "2  Virginia Beach   Virginia      449974\n",
       "3           Boise      Idaho      228959\n",
       "4         El Paso      Texas      681728\n",
       "5        St Louis   Missouri      300576\n",
       "6       Cleveland       Ohio      381009\n",
       "7       Baltimore    Mayland      593490\n",
       "8         Memphis  Tennessee      651073\n",
       "9         Detroit   Michigan      670031"
      ]
     },
     "execution_count": 3,
     "metadata": {},
     "output_type": "execute_result"
    }
   ],
   "source": [
    "city_df"
   ]
  },
  {
   "cell_type": "code",
   "execution_count": 4,
   "metadata": {
    "colab": {
     "base_uri": "https://localhost:8080/",
     "height": 204
    },
    "id": "etoXABWKodld",
    "outputId": "2fe99b07-03ac-4550-8e47-9271d6b4701c"
   },
   "outputs": [
    {
     "data": {
      "text/html": [
       "<div>\n",
       "<style scoped>\n",
       "    .dataframe tbody tr th:only-of-type {\n",
       "        vertical-align: middle;\n",
       "    }\n",
       "\n",
       "    .dataframe tbody tr th {\n",
       "        vertical-align: top;\n",
       "    }\n",
       "\n",
       "    .dataframe thead th {\n",
       "        text-align: right;\n",
       "    }\n",
       "</style>\n",
       "<table border=\"1\" class=\"dataframe\">\n",
       "  <thead>\n",
       "    <tr style=\"text-align: right;\">\n",
       "      <th></th>\n",
       "      <th>City</th>\n",
       "      <th>State</th>\n",
       "      <th>Poverty Rate</th>\n",
       "    </tr>\n",
       "  </thead>\n",
       "  <tbody>\n",
       "    <tr>\n",
       "      <th>0</th>\n",
       "      <td>Henderson</td>\n",
       "      <td>Nevada</td>\n",
       "      <td>8.5</td>\n",
       "    </tr>\n",
       "    <tr>\n",
       "      <th>1</th>\n",
       "      <td>Irving</td>\n",
       "      <td>Texas</td>\n",
       "      <td>13.5</td>\n",
       "    </tr>\n",
       "    <tr>\n",
       "      <th>2</th>\n",
       "      <td>Virginia Beach</td>\n",
       "      <td>Virginia</td>\n",
       "      <td>7.6</td>\n",
       "    </tr>\n",
       "    <tr>\n",
       "      <th>3</th>\n",
       "      <td>Boise</td>\n",
       "      <td>Idaho</td>\n",
       "      <td>13.5</td>\n",
       "    </tr>\n",
       "    <tr>\n",
       "      <th>4</th>\n",
       "      <td>El Paso</td>\n",
       "      <td>Texas</td>\n",
       "      <td>20.0</td>\n",
       "    </tr>\n",
       "  </tbody>\n",
       "</table>\n",
       "</div>"
      ],
      "text/plain": [
       "             City     State  Poverty Rate\n",
       "0       Henderson    Nevada           8.5\n",
       "1          Irving     Texas          13.5\n",
       "2  Virginia Beach  Virginia           7.6\n",
       "3           Boise     Idaho          13.5\n",
       "4         El Paso     Texas          20.0"
      ]
     },
     "execution_count": 4,
     "metadata": {},
     "output_type": "execute_result"
    }
   ],
   "source": [
    "#Import Poverty data\n",
    "path= \"/content/gdrive/MyDrive/project_team_2/poverty_data1.csv\"\n",
    "poverty_df = pd.read_csv('poverty_data1.csv')\n",
    "poverty_df.head()"
   ]
  },
  {
   "cell_type": "code",
   "execution_count": 5,
   "metadata": {
    "id": "s9ziswaSSshT"
   },
   "outputs": [],
   "source": [
    "agency_code = ['TX0571500','TX0710200','NV0020300','ID0010100','VA1280000','MI8234900','MOSPD0000','TNMPD0000','MDBPD0000','OHCLP0000']\n",
    "cities = ['Irving','El Paso','Henderson','Boise','Virginia Beach','Detroit','St Louis','Memphis','Baltimore','Cleveland']\n",
    "city_police_df = pd.DataFrame({\n",
    "    'City':cities,\n",
    "    'Agency Code':agency_code\n",
    "})"
   ]
  },
  {
   "cell_type": "code",
   "execution_count": 6,
   "metadata": {
    "colab": {
     "base_uri": "https://localhost:8080/",
     "height": 393
    },
    "id": "F-covQ4Wodw3",
    "outputId": "befaf94a-2518-482d-b5ff-d0345b610863"
   },
   "outputs": [
    {
     "name": "stdout",
     "output_type": "stream",
     "text": [
      "Violent crime city rates (actual): \n",
      "[617, 2509, 543, 756, 636, 13622, 5792, 12723, 11101, 6203]\n"
     ]
    },
    {
     "data": {
      "text/html": [
       "<div>\n",
       "<style scoped>\n",
       "    .dataframe tbody tr th:only-of-type {\n",
       "        vertical-align: middle;\n",
       "    }\n",
       "\n",
       "    .dataframe tbody tr th {\n",
       "        vertical-align: top;\n",
       "    }\n",
       "\n",
       "    .dataframe thead th {\n",
       "        text-align: right;\n",
       "    }\n",
       "</style>\n",
       "<table border=\"1\" class=\"dataframe\">\n",
       "  <thead>\n",
       "    <tr style=\"text-align: right;\">\n",
       "      <th></th>\n",
       "      <th>City</th>\n",
       "      <th>Agency Code</th>\n",
       "      <th>Crimes (Actual)</th>\n",
       "    </tr>\n",
       "  </thead>\n",
       "  <tbody>\n",
       "    <tr>\n",
       "      <th>0</th>\n",
       "      <td>Irving</td>\n",
       "      <td>TX0571500</td>\n",
       "      <td>617</td>\n",
       "    </tr>\n",
       "    <tr>\n",
       "      <th>1</th>\n",
       "      <td>El Paso</td>\n",
       "      <td>TX0710200</td>\n",
       "      <td>2509</td>\n",
       "    </tr>\n",
       "    <tr>\n",
       "      <th>2</th>\n",
       "      <td>Henderson</td>\n",
       "      <td>NV0020300</td>\n",
       "      <td>543</td>\n",
       "    </tr>\n",
       "    <tr>\n",
       "      <th>3</th>\n",
       "      <td>Boise</td>\n",
       "      <td>ID0010100</td>\n",
       "      <td>756</td>\n",
       "    </tr>\n",
       "    <tr>\n",
       "      <th>4</th>\n",
       "      <td>Virginia Beach</td>\n",
       "      <td>VA1280000</td>\n",
       "      <td>636</td>\n",
       "    </tr>\n",
       "    <tr>\n",
       "      <th>5</th>\n",
       "      <td>Detroit</td>\n",
       "      <td>MI8234900</td>\n",
       "      <td>13622</td>\n",
       "    </tr>\n",
       "    <tr>\n",
       "      <th>6</th>\n",
       "      <td>St Louis</td>\n",
       "      <td>MOSPD0000</td>\n",
       "      <td>5792</td>\n",
       "    </tr>\n",
       "    <tr>\n",
       "      <th>7</th>\n",
       "      <td>Memphis</td>\n",
       "      <td>TNMPD0000</td>\n",
       "      <td>12723</td>\n",
       "    </tr>\n",
       "    <tr>\n",
       "      <th>8</th>\n",
       "      <td>Baltimore</td>\n",
       "      <td>MDBPD0000</td>\n",
       "      <td>11101</td>\n",
       "    </tr>\n",
       "    <tr>\n",
       "      <th>9</th>\n",
       "      <td>Cleveland</td>\n",
       "      <td>OHCLP0000</td>\n",
       "      <td>6203</td>\n",
       "    </tr>\n",
       "  </tbody>\n",
       "</table>\n",
       "</div>"
      ],
      "text/plain": [
       "             City Agency Code  Crimes (Actual)\n",
       "0          Irving   TX0571500              617\n",
       "1         El Paso   TX0710200             2509\n",
       "2       Henderson   NV0020300              543\n",
       "3           Boise   ID0010100              756\n",
       "4  Virginia Beach   VA1280000              636\n",
       "5         Detroit   MI8234900            13622\n",
       "6        St Louis   MOSPD0000             5792\n",
       "7         Memphis   TNMPD0000            12723\n",
       "8       Baltimore   MDBPD0000            11101\n",
       "9       Cleveland   OHCLP0000             6203"
      ]
     },
     "execution_count": 6,
     "metadata": {},
     "output_type": "execute_result"
    }
   ],
   "source": [
    "#Violent crime data from FBI API\n",
    "\n",
    "url1 = \"https://api.usa.gov/crime/fbi/sapi/api/summarized/agencies/\"\n",
    "url2 = \"/violent-crime/2019/2019?API_KEY=\"\n",
    "fbi_api_key = \"iiHnOKfno2Mgkt5AynpvPpUQTEyxE77jo1RU8PIv\"\n",
    "violent_crimes = []\n",
    "\n",
    "for code in agency_code:\n",
    "  agencies_data = requests.get(url1 + code + url2 + fbi_api_key).json()\n",
    "  violent_crimes.append(agencies_data)\n",
    "\n",
    "vc_actual = [violent_crimes[x]['results'][0]['actual'] for x in range(len(violent_crimes))]\n",
    "print(\"Violent crime city rates (actual): \")\n",
    "print(vc_actual)\n",
    "city_police_df['Crimes (Actual)'] = vc_actual\n",
    "city_police_df"
   ]
  },
  {
   "cell_type": "code",
   "execution_count": 7,
   "metadata": {
    "colab": {
     "base_uri": "https://localhost:8080/",
     "height": 359
    },
    "id": "esS0e7OuVgCJ",
    "outputId": "f5500bea-a6fe-4e3b-d61b-083eb03bb0d1"
   },
   "outputs": [
    {
     "data": {
      "text/html": [
       "<div>\n",
       "<style scoped>\n",
       "    .dataframe tbody tr th:only-of-type {\n",
       "        vertical-align: middle;\n",
       "    }\n",
       "\n",
       "    .dataframe tbody tr th {\n",
       "        vertical-align: top;\n",
       "    }\n",
       "\n",
       "    .dataframe thead th {\n",
       "        text-align: right;\n",
       "    }\n",
       "</style>\n",
       "<table border=\"1\" class=\"dataframe\">\n",
       "  <thead>\n",
       "    <tr style=\"text-align: right;\">\n",
       "      <th></th>\n",
       "      <th>City</th>\n",
       "      <th>Agency Code</th>\n",
       "      <th>Crimes (Actual)</th>\n",
       "      <th>State</th>\n",
       "      <th>Population</th>\n",
       "      <th>Crime Rate (per 1000)</th>\n",
       "    </tr>\n",
       "  </thead>\n",
       "  <tbody>\n",
       "    <tr>\n",
       "      <th>0</th>\n",
       "      <td>Irving</td>\n",
       "      <td>TX0571500</td>\n",
       "      <td>617</td>\n",
       "      <td>Texas</td>\n",
       "      <td>239798</td>\n",
       "      <td>2.572999</td>\n",
       "    </tr>\n",
       "    <tr>\n",
       "      <th>1</th>\n",
       "      <td>El Paso</td>\n",
       "      <td>TX0710200</td>\n",
       "      <td>2509</td>\n",
       "      <td>Texas</td>\n",
       "      <td>681728</td>\n",
       "      <td>3.680353</td>\n",
       "    </tr>\n",
       "    <tr>\n",
       "      <th>2</th>\n",
       "      <td>Henderson</td>\n",
       "      <td>NV0020300</td>\n",
       "      <td>543</td>\n",
       "      <td>Nevada</td>\n",
       "      <td>320189</td>\n",
       "      <td>1.695873</td>\n",
       "    </tr>\n",
       "    <tr>\n",
       "      <th>3</th>\n",
       "      <td>Boise</td>\n",
       "      <td>ID0010100</td>\n",
       "      <td>756</td>\n",
       "      <td>Idaho</td>\n",
       "      <td>228959</td>\n",
       "      <td>3.301901</td>\n",
       "    </tr>\n",
       "    <tr>\n",
       "      <th>4</th>\n",
       "      <td>Virginia Beach</td>\n",
       "      <td>VA1280000</td>\n",
       "      <td>636</td>\n",
       "      <td>Virginia</td>\n",
       "      <td>449974</td>\n",
       "      <td>1.413415</td>\n",
       "    </tr>\n",
       "    <tr>\n",
       "      <th>5</th>\n",
       "      <td>Detroit</td>\n",
       "      <td>MI8234900</td>\n",
       "      <td>13622</td>\n",
       "      <td>Michigan</td>\n",
       "      <td>670031</td>\n",
       "      <td>20.330403</td>\n",
       "    </tr>\n",
       "    <tr>\n",
       "      <th>6</th>\n",
       "      <td>St Louis</td>\n",
       "      <td>MOSPD0000</td>\n",
       "      <td>5792</td>\n",
       "      <td>Missouri</td>\n",
       "      <td>300576</td>\n",
       "      <td>19.269669</td>\n",
       "    </tr>\n",
       "    <tr>\n",
       "      <th>7</th>\n",
       "      <td>Memphis</td>\n",
       "      <td>TNMPD0000</td>\n",
       "      <td>12723</td>\n",
       "      <td>Tennessee</td>\n",
       "      <td>651073</td>\n",
       "      <td>19.541588</td>\n",
       "    </tr>\n",
       "    <tr>\n",
       "      <th>8</th>\n",
       "      <td>Baltimore</td>\n",
       "      <td>MDBPD0000</td>\n",
       "      <td>11101</td>\n",
       "      <td>Mayland</td>\n",
       "      <td>593490</td>\n",
       "      <td>18.704612</td>\n",
       "    </tr>\n",
       "    <tr>\n",
       "      <th>9</th>\n",
       "      <td>Cleveland</td>\n",
       "      <td>OHCLP0000</td>\n",
       "      <td>6203</td>\n",
       "      <td>Ohio</td>\n",
       "      <td>381009</td>\n",
       "      <td>16.280455</td>\n",
       "    </tr>\n",
       "  </tbody>\n",
       "</table>\n",
       "</div>"
      ],
      "text/plain": [
       "             City Agency Code  Crimes (Actual)      State  Population  \\\n",
       "0          Irving   TX0571500              617      Texas      239798   \n",
       "1         El Paso   TX0710200             2509      Texas      681728   \n",
       "2       Henderson   NV0020300              543     Nevada      320189   \n",
       "3           Boise   ID0010100              756      Idaho      228959   \n",
       "4  Virginia Beach   VA1280000              636   Virginia      449974   \n",
       "5         Detroit   MI8234900            13622   Michigan      670031   \n",
       "6        St Louis   MOSPD0000             5792   Missouri      300576   \n",
       "7         Memphis   TNMPD0000            12723  Tennessee      651073   \n",
       "8       Baltimore   MDBPD0000            11101    Mayland      593490   \n",
       "9       Cleveland   OHCLP0000             6203       Ohio      381009   \n",
       "\n",
       "   Crime Rate (per 1000)  \n",
       "0               2.572999  \n",
       "1               3.680353  \n",
       "2               1.695873  \n",
       "3               3.301901  \n",
       "4               1.413415  \n",
       "5              20.330403  \n",
       "6              19.269669  \n",
       "7              19.541588  \n",
       "8              18.704612  \n",
       "9              16.280455  "
      ]
     },
     "execution_count": 7,
     "metadata": {},
     "output_type": "execute_result"
    }
   ],
   "source": [
    "crime_pop_df = city_police_df.merge(city_df,on=\"City\",how=\"left\")\n",
    "crime_pop_df['Crime Rate (per 1000)'] = crime_pop_df['Crimes (Actual)'].astype(float) / (crime_pop_df['Population'].astype(float)/1000)\n",
    "crime_pop_df"
   ]
  },
  {
   "cell_type": "code",
   "execution_count": 8,
   "metadata": {
    "id": "NVXH_DGPod23"
   },
   "outputs": [],
   "source": [
    "#read csv file on police density in each city\n",
    "#Henderson, NV currently missing, working on finding that data -Alyssa\n",
    "file = \"/content/gdrive/MyDrive/project_team_2/police_density_data.csv\"\n",
    "police_df = pd.read_csv('police_density_data.csv')"
   ]
  },
  {
   "cell_type": "code",
   "execution_count": 9,
   "metadata": {
    "colab": {
     "base_uri": "https://localhost:8080/",
     "height": 204
    },
    "id": "Tc1dlYSIod6D",
    "outputId": "2199295f-0822-4ec6-ddb4-dccaac4f16ce"
   },
   "outputs": [
    {
     "data": {
      "text/html": [
       "<div>\n",
       "<style scoped>\n",
       "    .dataframe tbody tr th:only-of-type {\n",
       "        vertical-align: middle;\n",
       "    }\n",
       "\n",
       "    .dataframe tbody tr th {\n",
       "        vertical-align: top;\n",
       "    }\n",
       "\n",
       "    .dataframe thead th {\n",
       "        text-align: right;\n",
       "    }\n",
       "</style>\n",
       "<table border=\"1\" class=\"dataframe\">\n",
       "  <thead>\n",
       "    <tr style=\"text-align: right;\">\n",
       "      <th></th>\n",
       "      <th>City</th>\n",
       "      <th>Population</th>\n",
       "      <th>Total_Law</th>\n",
       "      <th>Total_Officers</th>\n",
       "      <th>Total_Civilians</th>\n",
       "    </tr>\n",
       "  </thead>\n",
       "  <tbody>\n",
       "    <tr>\n",
       "      <th>0</th>\n",
       "      <td>Henderson</td>\n",
       "      <td>320189</td>\n",
       "      <td>391</td>\n",
       "      <td>391</td>\n",
       "      <td>0</td>\n",
       "    </tr>\n",
       "    <tr>\n",
       "      <th>1</th>\n",
       "      <td>Irving</td>\n",
       "      <td>245423</td>\n",
       "      <td>525</td>\n",
       "      <td>364</td>\n",
       "      <td>161</td>\n",
       "    </tr>\n",
       "    <tr>\n",
       "      <th>2</th>\n",
       "      <td>Virginia Beach</td>\n",
       "      <td>449038</td>\n",
       "      <td>938</td>\n",
       "      <td>760</td>\n",
       "      <td>178</td>\n",
       "    </tr>\n",
       "    <tr>\n",
       "      <th>3</th>\n",
       "      <td>Boise</td>\n",
       "      <td>231214</td>\n",
       "      <td>385</td>\n",
       "      <td>298</td>\n",
       "      <td>87</td>\n",
       "    </tr>\n",
       "    <tr>\n",
       "      <th>4</th>\n",
       "      <td>El Paso</td>\n",
       "      <td>686793</td>\n",
       "      <td>1412</td>\n",
       "      <td>1171</td>\n",
       "      <td>241</td>\n",
       "    </tr>\n",
       "  </tbody>\n",
       "</table>\n",
       "</div>"
      ],
      "text/plain": [
       "             City  Population  Total_Law  Total_Officers  Total_Civilians\n",
       "0       Henderson      320189        391             391                0\n",
       "1          Irving      245423        525             364              161\n",
       "2  Virginia Beach      449038        938             760              178\n",
       "3           Boise      231214        385             298               87\n",
       "4         El Paso      686793       1412            1171              241"
      ]
     },
     "execution_count": 9,
     "metadata": {},
     "output_type": "execute_result"
    }
   ],
   "source": [
    "police_df.head()"
   ]
  },
  {
   "cell_type": "code",
   "execution_count": 10,
   "metadata": {
    "colab": {
     "base_uri": "https://localhost:8080/",
     "height": 521
    },
    "id": "U6VEceKsoeAL",
    "outputId": "007684fb-ee93-4a64-910c-c44952b82768"
   },
   "outputs": [
    {
     "data": {
      "image/png": "[encoded data removed]",
      "text/plain": [
       "<Figure size 720x504 with 1 Axes>"
      ]
     },
     "metadata": {
      "needs_background": "light"
     },
     "output_type": "display_data"
    }
   ],
   "source": [
    "#visualization for police density by city\n",
    "x_axis = np.arange(len(police_df))\n",
    "tick_locations = [value for value in x_axis]\n",
    "\n",
    "plt.figure(figsize=(10,7))\n",
    "plt.bar(x_axis, police_df['Total_Officers'], color='b', align='center')\n",
    "plt.xticks(tick_locations, police_df['City'], rotation='vertical')\n",
    "\n",
    "plt.xlim(-1,len(x_axis))\n",
    "plt.ylim(0,2750)\n",
    "\n",
    "plt.title('Police Density by City')\n",
    "plt.xlabel('Cities')\n",
    "plt.ylabel('Total Number of Police Officers')\n",
    "\n",
    "plt.tight_layout\n",
    "plt.show()"
   ]
  },
  {
   "cell_type": "code",
   "execution_count": 11,
   "metadata": {
    "colab": {
     "base_uri": "https://localhost:8080/",
     "height": 1000
    },
    "id": "oHmqAUZYoeDl",
    "outputId": "42e9cb36-f5b8-4306-de33-6427f6e6c116"
   },
   "outputs": [
    {
     "name": "stdout",
     "output_type": "stream",
     "text": [
      "The r-value is: 0.6112121739898603\n"
     ]
    },
    {
     "data": {
      "image/png": "[encoded data removed]",
      "text/plain": [
       "<Figure size 432x288 with 1 Axes>"
      ]
     },
     "metadata": {
      "needs_background": "light"
     },
     "output_type": "display_data"
    },
    {
     "data": {
      "text/plain": [
       "<Figure size 720x504 with 0 Axes>"
      ]
     },
     "metadata": {},
     "output_type": "display_data"
    }
   ],
   "source": [
    "#visualization police density vs violent crime\n",
    "x_axis = police_df['Total_Officers']\n",
    "y_axis = crime_pop_df['Crime Rate (per 1000)']\n",
    "\n",
    "plt.scatter(x_axis, y_axis, marker='o', edgecolors='black')\n",
    "\n",
    "plt.title('Police Density vs. Violent Crime')\n",
    "plt.xlabel('Police Density')\n",
    "plt.ylabel('Violent Crime Rate')\n",
    "plt.grid(True)\n",
    "\n",
    "(slope, intercept, rvalue, pvalue, stderr) = linregress(x_axis, y_axis)\n",
    "regress_values = x_axis * slope + intercept\n",
    "line_eq = \"y = \" + str(round(slope,2)) + \"x +\" + str(round(intercept,2))\n",
    "plt.annotate(line_eq,(1500,2000),fontsize=15,color=\"red\")\n",
    "plt.plot(x_axis,regress_values,\"r-\")\n",
    "\n",
    "print(f\"The r-value is: {rvalue**2}\")\n",
    "\n",
    "plt.figure(figsize=(10,7))\n",
    "plt.show()"
   ]
  },
  {
   "cell_type": "code",
   "execution_count": 16,
   "metadata": {
    "colab": {
     "base_uri": "https://localhost:8080/",
     "height": 359
    },
    "id": "Q_TKDXUIoeG7",
    "outputId": "ff3ca75a-cab2-459c-ff45-b415a7862c15"
   },
   "outputs": [
    {
     "data": {
      "text/html": [
       "<div>\n",
       "<style scoped>\n",
       "    .dataframe tbody tr th:only-of-type {\n",
       "        vertical-align: middle;\n",
       "    }\n",
       "\n",
       "    .dataframe tbody tr th {\n",
       "        vertical-align: top;\n",
       "    }\n",
       "\n",
       "    .dataframe thead th {\n",
       "        text-align: right;\n",
       "    }\n",
       "</style>\n",
       "<table border=\"1\" class=\"dataframe\">\n",
       "  <thead>\n",
       "    <tr style=\"text-align: right;\">\n",
       "      <th></th>\n",
       "      <th>City</th>\n",
       "      <th>Population</th>\n",
       "      <th>Poverty Rate</th>\n",
       "      <th>Crime Rate</th>\n",
       "    </tr>\n",
       "  </thead>\n",
       "  <tbody>\n",
       "    <tr>\n",
       "      <th>0</th>\n",
       "      <td>Henderson</td>\n",
       "      <td>320.189</td>\n",
       "      <td>8.5</td>\n",
       "      <td>2.572999</td>\n",
       "    </tr>\n",
       "    <tr>\n",
       "      <th>1</th>\n",
       "      <td>Irving</td>\n",
       "      <td>239.798</td>\n",
       "      <td>13.5</td>\n",
       "      <td>3.680353</td>\n",
       "    </tr>\n",
       "    <tr>\n",
       "      <th>2</th>\n",
       "      <td>Virginia Beach</td>\n",
       "      <td>449.974</td>\n",
       "      <td>7.6</td>\n",
       "      <td>1.695873</td>\n",
       "    </tr>\n",
       "    <tr>\n",
       "      <th>3</th>\n",
       "      <td>Boise</td>\n",
       "      <td>228.959</td>\n",
       "      <td>13.5</td>\n",
       "      <td>3.301901</td>\n",
       "    </tr>\n",
       "    <tr>\n",
       "      <th>4</th>\n",
       "      <td>El Paso</td>\n",
       "      <td>681.728</td>\n",
       "      <td>20.0</td>\n",
       "      <td>1.413415</td>\n",
       "    </tr>\n",
       "    <tr>\n",
       "      <th>5</th>\n",
       "      <td>St Louis</td>\n",
       "      <td>300.576</td>\n",
       "      <td>24.2</td>\n",
       "      <td>20.330403</td>\n",
       "    </tr>\n",
       "    <tr>\n",
       "      <th>6</th>\n",
       "      <td>Cleveland</td>\n",
       "      <td>381.009</td>\n",
       "      <td>34.6</td>\n",
       "      <td>19.269669</td>\n",
       "    </tr>\n",
       "    <tr>\n",
       "      <th>7</th>\n",
       "      <td>Baltimore</td>\n",
       "      <td>593.490</td>\n",
       "      <td>21.8</td>\n",
       "      <td>19.541588</td>\n",
       "    </tr>\n",
       "    <tr>\n",
       "      <th>8</th>\n",
       "      <td>Memphis</td>\n",
       "      <td>651.073</td>\n",
       "      <td>26.8</td>\n",
       "      <td>18.704612</td>\n",
       "    </tr>\n",
       "    <tr>\n",
       "      <th>9</th>\n",
       "      <td>Detroit</td>\n",
       "      <td>670.031</td>\n",
       "      <td>36.4</td>\n",
       "      <td>16.280455</td>\n",
       "    </tr>\n",
       "  </tbody>\n",
       "</table>\n",
       "</div>"
      ],
      "text/plain": [
       "             City  Population  Poverty Rate  Crime Rate\n",
       "0       Henderson     320.189           8.5    2.572999\n",
       "1          Irving     239.798          13.5    3.680353\n",
       "2  Virginia Beach     449.974           7.6    1.695873\n",
       "3           Boise     228.959          13.5    3.301901\n",
       "4         El Paso     681.728          20.0    1.413415\n",
       "5        St Louis     300.576          24.2   20.330403\n",
       "6       Cleveland     381.009          34.6   19.269669\n",
       "7       Baltimore     593.490          21.8   19.541588\n",
       "8         Memphis     651.073          26.8   18.704612\n",
       "9         Detroit     670.031          36.4   16.280455"
      ]
     },
     "execution_count": 16,
     "metadata": {},
     "output_type": "execute_result"
    }
   ],
   "source": [
    "cities = police_df[\"City\"]\n",
    "population = city_df[\"Population\"]/1000\n",
    "poverty_percentage = poverty_df[\"Poverty Rate\"]\n",
    "crime_rate=crime_pop_df['Crime Rate (per 1000)']\n",
    "\n",
    "final_data_df=pd.DataFrame({\"City\":cities,\"Population\":population,\"Poverty Rate\":poverty_percentage,\"Crime Rate\":crime_rate})\n",
    "final_data_df.head(10)"
   ]
  },
  {
   "cell_type": "code",
   "execution_count": 17,
   "metadata": {
    "colab": {
     "base_uri": "https://localhost:8080/",
     "height": 296
    },
    "id": "bwfk5Wtta0jZ",
    "outputId": "aaefd496-bbb0-453e-ca57-b7b92afa96ed"
   },
   "outputs": [
    {
     "data": {
      "text/plain": [
       "<matplotlib.axes._subplots.AxesSubplot at 0x1f0ff4e9d60>"
      ]
     },
     "execution_count": 17,
     "metadata": {},
     "output_type": "execute_result"
    },
    {
     "data": {
      "image/png": "[encoded data removed]",
      "text/plain": [
       "<Figure size 432x288 with 1 Axes>"
      ]
     },
     "metadata": {
      "needs_background": "light"
     },
     "output_type": "display_data"
    }
   ],
   "source": [
    "pop_crime_plot = final_data_df.plot.scatter('Population','Crime Rate')\n",
    "pop_crime_plot"
   ]
  },
  {
   "cell_type": "code",
   "execution_count": 18,
   "metadata": {
    "colab": {
     "base_uri": "https://localhost:8080/",
     "height": 374
    },
    "id": "XrXngzzU5vUg",
    "outputId": "a11fcca7-7ffb-459d-b0da-e810eac3022d"
   },
   "outputs": [
    {
     "data": {
      "text/plain": [
       "Text(0.5, 1.0, 'Poverty Rate by City')"
      ]
     },
     "execution_count": 18,
     "metadata": {},
     "output_type": "execute_result"
    },
    {
     "data": {
      "image/png": "[encoded data removed]",
      "text/plain": [
       "<Figure size 432x288 with 1 Axes>"
      ]
     },
     "metadata": {
      "needs_background": "light"
     },
     "output_type": "display_data"
    }
   ],
   "source": [
    "# Poverty Rate by City\n",
    "plt.bar(cities,poverty_percentage,color=(0.9, 0.8, 0.1, 0.9))\n",
    "    \n",
    "degrees = 70\n",
    "plt.xticks(rotation=degrees)\n",
    "\n",
    "plt.xlabel('City')\n",
    "plt.ylabel('Poverty Rate (%)')\n",
    "plt.title('Poverty Rate by City')\n"
   ]
  },
  {
   "cell_type": "code",
   "execution_count": 41,
   "metadata": {
    "colab": {
     "base_uri": "https://localhost:8080/",
     "height": 312
    },
    "id": "c-Q3ae-0oeKL",
    "outputId": "360194f0-9491-4c94-81b3-abde53243be5"
   },
   "outputs": [
    {
     "data": {
      "text/plain": [
       "Text(0.5, 1.0, 'Crime Rate vs. Poverty Rate')"
      ]
     },
     "execution_count": 41,
     "metadata": {},
     "output_type": "execute_result"
    },
    {
     "data": {
      "image/png": "[encoded data removed]",
      "text/plain": [
       "<Figure size 432x288 with 1 Axes>"
      ]
     },
     "metadata": {
      "needs_background": "light"
     },
     "output_type": "display_data"
    }
   ],
   "source": [
    "x = final_data_df[\"Crime Rate\"]\n",
    "y = final_data_df[\"Poverty Rate\"]\n",
    "\n",
    "\n",
    "(slope, intercept, rvalue, pvalue, stderr) = stats.linregress(x , y)\n",
    "regress_values = x * slope + intercept\n",
    "\n",
    "colors = np.random\n",
    "\n",
    "m_fit = slope * x + intercept\n",
    "plt.scatter(x,y)\n",
    "            \n",
    "\n",
    "plt.plot(x,m_fit,\"--\")\n",
    "plt.xlabel('Crime Rate')\n",
    "plt.ylabel('Poverty Rate')\n",
    "plt.title('Crime Rate vs. Poverty Rate')\n",
    "\n",
    "\n",
    "\n"
   ]
  },
  {
   "cell_type": "code",
   "execution_count": 38,
   "metadata": {
    "colab": {
     "base_uri": "https://localhost:8080/",
     "height": 232
    },
    "id": "AhJxmBDECb5Z",
    "outputId": "1b5a4dfd-44df-4c37-ff78-489979d5fbba"
   },
   "outputs": [
    {
     "name": "stdout",
     "output_type": "stream",
     "text": [
      "Series([], Name: Poverty Rate, dtype: float64)\n"
     ]
    }
   ],
   "source": [
    "for city in cities:\n",
    "\n",
    "    p_rate = final_data_df.loc[final_data_df[\"City\"]== city,\"Poverty Rate\"]\n",
    "\n",
    "    #print(p_rate)\n",
    "# Calculate the IQR and quantitatively determine if there are any potential outliers. \n",
    "    quantile = p_rate.quantile([0.25,0.5,0.75])\n",
    "    lower_quartile = quantile[.25]\n",
    "    upper_quartile = quantile[.75]\n",
    " \n",
    "    IQR = upper_quartile - lower_quartile\n",
    "    \n",
    "   \n",
    "    # Determine outliers using upper and lower bounds\n",
    "    upper_bound = upper_quartile + 1.5*(IQR)\n",
    "    \n",
    "    lower_bound = lower_quartile - 1.5*(IQR)\n",
    "   \n",
    "    outliers = p_rate.loc[(p_rate > upper_bound) | (p_rate < lower_bound)]\n",
    "    #print(outliers)\n",
    "    \n",
    "print(outliers)"
   ]
  },
  {
   "cell_type": "markdown",
   "metadata": {},
   "source": [
    "# Hypothesis Testing : \n",
    "\n",
    "# Uo (Null Hypothesis): There is no signifincance relationship between crime rate and population across cities\n",
    "\n",
    "# U1 (Hypothesis): There is signifincance relationship between crime rate and population across cities\n"
   ]
  },
  {
   "cell_type": "code",
   "execution_count": 39,
   "metadata": {},
   "outputs": [
    {
     "data": {
      "text/plain": [
       "Ttest_indResult(statistic=7.62872294153723, pvalue=3.1491835605699476e-05)"
      ]
     },
     "execution_count": 39,
     "metadata": {},
     "output_type": "execute_result"
    }
   ],
   "source": [
    "pop= final_data_df['Population']\n",
    "crime_rate = final_data_df['Crime Rate']\n",
    "\n",
    "# Calculate Independent (Two Sample) T-Test\n",
    "stats.ttest_ind(pop, crime_rate, equal_var=False)"
   ]
  },
  {
   "cell_type": "code",
   "execution_count": null,
   "metadata": {},
   "outputs": [],
   "source": []
  }
 ],
 "metadata": {
  "colab": {
   "collapsed_sections": [],
   "name": "crime_analysis",
   "provenance": []
  },
  "kernelspec": {
   "display_name": "Python 3",
   "language": "python",
   "name": "python3"
  },
  "language_info": {
   "codemirror_mode": {
    "name": "ipython",
    "version": 3
   },
   "file_extension": ".py",
   "mimetype": "text/x-python",
   "name": "python",
   "nbconvert_exporter": "python",
   "pygments_lexer": "ipython3",
   "version": "3.8.3"
  }
 },
 "nbformat": 4,
 "nbformat_minor": 1
}
